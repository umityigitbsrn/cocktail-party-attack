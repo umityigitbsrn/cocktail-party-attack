{
 "cells": [
  {
   "cell_type": "code",
   "execution_count": 1,
   "id": "initial_id",
   "metadata": {
    "collapsed": true,
    "ExecuteTime": {
     "end_time": "2024-01-10T22:26:05.777749133Z",
     "start_time": "2024-01-10T22:26:03.854332493Z"
    }
   },
   "outputs": [],
   "source": [
    "import os\n",
    "from attack import cocktail_party_attack"
   ]
  },
  {
   "cell_type": "code",
   "outputs": [],
   "source": [
    "model_config = './model_config/fc2_cocktail_party_tiny_imagenet_instance.json'\n",
    "checkpoint = './checkpoints/010424_fc2_cocktail_party_tiny_imagenet_pretraining_wout_bias_wout_normalization.pth'\n",
    "data_type = 'tiny-imagenet'\n",
    "data_path = '../data'\n",
    "batch_size = 16\n",
    "log_files = os.listdir('./hyperparameter_optimization_log/')\n",
    "for log_file in log_files:\n",
    "    target_id = int(log_file.split('.')[0].split('_')[-1])\n",
    "    with open(os.path.join('./hyperparameter_optimization_log/', log_file), 'r') as fp:\n",
    "        lines = fp.readlines()\n",
    "        best_trial = lines[int(lines[-1][lines[-1].index('Best is trial '):].split(' ')[3]) + 1]\n",
    "        params = [float(x.split(' ')[-1]) for x in best_trial.split('{')[-1].split('}')[0].split(', ')]\n",
    "        t_param, total_variance_loss_param, mutual_independence_loss_param = params\n",
    "    \n",
    "    print('#####################################################')\n",
    "    print('experiment with target id {} started'.format(target_id))\n",
    "    result_dict = cocktail_party_attack(model_config, checkpoint, data_type, data_path, batch_size, t_param,\n",
    "                                    total_variance_loss_param,\n",
    "                                    mutual_independence_loss_param, height=64, width=64, return_specific_with_id=target_id,\n",
    "                                    plot_shape=(4, 4),\n",
    "                                    save_results='011024_fc2_tiny_imagenet_bs_16_target_{}'.format(target_id),\n",
    "                                    save_json=True,\n",
    "                                    save_figure=True)\n",
    "    print('#####################################################\\n')"
   ],
   "metadata": {
    "collapsed": false
   },
   "id": "f058b705ff5ea421",
   "execution_count": null
  }
 ],
 "metadata": {
  "kernelspec": {
   "display_name": "Python 3",
   "language": "python",
   "name": "python3"
  },
  "language_info": {
   "codemirror_mode": {
    "name": "ipython",
    "version": 2
   },
   "file_extension": ".py",
   "mimetype": "text/x-python",
   "name": "python",
   "nbconvert_exporter": "python",
   "pygments_lexer": "ipython2",
   "version": "2.7.6"
  }
 },
 "nbformat": 4,
 "nbformat_minor": 5
}
