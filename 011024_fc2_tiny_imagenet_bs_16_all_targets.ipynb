{
 "cells": [
  {
   "cell_type": "code",
   "execution_count": 1,
   "id": "initial_id",
   "metadata": {
    "ExecuteTime": {
     "end_time": "2024-01-10T22:26:05.777749133Z",
     "start_time": "2024-01-10T22:26:03.854332493Z"
    },
    "collapsed": true
   },
   "outputs": [],
   "source": [
    "import os\n",
    "from attack import cocktail_party_attack"
   ]
  },
  {
   "cell_type": "code",
   "execution_count": 2,
   "id": "f058b705ff5ea421",
   "metadata": {
    "collapsed": false
   },
   "outputs": [
    {
     "name": "stdout",
     "output_type": "stream",
     "text": [
      "#####################################################\n",
      "experiment with target id 3 started\n",
      "The dataset is already installed\n",
      "reference data batch is loaded and sent to device cuda:3\n",
      "gradients with size: [torch.Size([256, 12288]), torch.Size([200, 256])] are received\n",
      "whitened and centered gradient of the first fc layer is received\n",
      "############# ATTACK IS STARTED #############\n",
      "loss: 1149.65625\n",
      "loss: 27.830745697021484\n",
      "loss: 10.072920799255371\n",
      "loss: 7.64444637298584\n",
      "loss: 7.64246129989624\n",
      "loss: 7.641617774963379\n",
      "loss: 7.640039443969727\n",
      "loss: 7.637951850891113\n",
      "loss: 7.636065483093262\n",
      "loss: 7.6338934898376465\n",
      "loss: 7.63231897354126\n"
     ]
    },
    {
     "ename": "KeyboardInterrupt",
     "evalue": "",
     "output_type": "error",
     "traceback": [
      "\u001b[0;31m---------------------------------------------------------------------------\u001b[0m",
      "\u001b[0;31mKeyboardInterrupt\u001b[0m                         Traceback (most recent call last)",
      "Cell \u001b[0;32mIn[2], line 17\u001b[0m\n\u001b[1;32m     15\u001b[0m \u001b[38;5;28mprint\u001b[39m(\u001b[38;5;124m'\u001b[39m\u001b[38;5;124m#####################################################\u001b[39m\u001b[38;5;124m'\u001b[39m)\n\u001b[1;32m     16\u001b[0m \u001b[38;5;28mprint\u001b[39m(\u001b[38;5;124m'\u001b[39m\u001b[38;5;124mexperiment with target id \u001b[39m\u001b[38;5;132;01m{}\u001b[39;00m\u001b[38;5;124m started\u001b[39m\u001b[38;5;124m'\u001b[39m\u001b[38;5;241m.\u001b[39mformat(target_id))\n\u001b[0;32m---> 17\u001b[0m result_dict \u001b[38;5;241m=\u001b[39m \u001b[43mcocktail_party_attack\u001b[49m\u001b[43m(\u001b[49m\u001b[43mmodel_config\u001b[49m\u001b[43m,\u001b[49m\u001b[43m \u001b[49m\u001b[43mcheckpoint\u001b[49m\u001b[43m,\u001b[49m\u001b[43m \u001b[49m\u001b[43mdata_type\u001b[49m\u001b[43m,\u001b[49m\u001b[43m \u001b[49m\u001b[43mdata_path\u001b[49m\u001b[43m,\u001b[49m\u001b[43m \u001b[49m\u001b[43mbatch_size\u001b[49m\u001b[43m,\u001b[49m\u001b[43m \u001b[49m\u001b[43mt_param\u001b[49m\u001b[43m,\u001b[49m\n\u001b[1;32m     18\u001b[0m \u001b[43m                                \u001b[49m\u001b[43mtotal_variance_loss_param\u001b[49m\u001b[43m,\u001b[49m\n\u001b[1;32m     19\u001b[0m \u001b[43m                                \u001b[49m\u001b[43mmutual_independence_loss_param\u001b[49m\u001b[43m,\u001b[49m\u001b[43m \u001b[49m\u001b[43mheight\u001b[49m\u001b[38;5;241;43m=\u001b[39;49m\u001b[38;5;241;43m64\u001b[39;49m\u001b[43m,\u001b[49m\u001b[43m \u001b[49m\u001b[43mwidth\u001b[49m\u001b[38;5;241;43m=\u001b[39;49m\u001b[38;5;241;43m64\u001b[39;49m\u001b[43m,\u001b[49m\u001b[43m \u001b[49m\u001b[43mreturn_specific_with_id\u001b[49m\u001b[38;5;241;43m=\u001b[39;49m\u001b[43mtarget_id\u001b[49m\u001b[43m,\u001b[49m\n\u001b[1;32m     20\u001b[0m \u001b[43m                                \u001b[49m\u001b[43mplot_shape\u001b[49m\u001b[38;5;241;43m=\u001b[39;49m\u001b[43m(\u001b[49m\u001b[38;5;241;43m4\u001b[39;49m\u001b[43m,\u001b[49m\u001b[43m \u001b[49m\u001b[38;5;241;43m4\u001b[39;49m\u001b[43m)\u001b[49m\u001b[43m,\u001b[49m\n\u001b[1;32m     21\u001b[0m \u001b[43m                                \u001b[49m\u001b[43msave_results\u001b[49m\u001b[38;5;241;43m=\u001b[39;49m\u001b[38;5;124;43m'\u001b[39;49m\u001b[38;5;124;43m011024_fc2_tiny_imagenet_bs_16_target_\u001b[39;49m\u001b[38;5;132;43;01m{}\u001b[39;49;00m\u001b[38;5;124;43m'\u001b[39;49m\u001b[38;5;241;43m.\u001b[39;49m\u001b[43mformat\u001b[49m\u001b[43m(\u001b[49m\u001b[43mtarget_id\u001b[49m\u001b[43m)\u001b[49m\u001b[43m,\u001b[49m\n\u001b[1;32m     22\u001b[0m \u001b[43m                                \u001b[49m\u001b[43msave_json\u001b[49m\u001b[38;5;241;43m=\u001b[39;49m\u001b[38;5;28;43;01mTrue\u001b[39;49;00m\u001b[43m,\u001b[49m\n\u001b[1;32m     23\u001b[0m \u001b[43m                                \u001b[49m\u001b[43msave_figure\u001b[49m\u001b[38;5;241;43m=\u001b[39;49m\u001b[38;5;28;43;01mTrue\u001b[39;49;00m\u001b[43m,\u001b[49m\u001b[43m \u001b[49m\u001b[43mdevice_number\u001b[49m\u001b[38;5;241;43m=\u001b[39;49m\u001b[38;5;241;43m3\u001b[39;49m\u001b[43m)\u001b[49m\n\u001b[1;32m     24\u001b[0m \u001b[38;5;28mprint\u001b[39m(\u001b[38;5;124m'\u001b[39m\u001b[38;5;124m#####################################################\u001b[39m\u001b[38;5;130;01m\\n\u001b[39;00m\u001b[38;5;124m'\u001b[39m)\n",
      "File \u001b[0;32m~/Desktop/umityigitbsrn/cocktail-party-attack/attack.py:130\u001b[0m, in \u001b[0;36mcocktail_party_attack\u001b[0;34m(model_config, checkpoint_path, data_type, data_path, batch_size, t_param, total_variance_loss_param, mutual_independence_loss_param, height, width, random_seed, device_number, return_metrics, return_matches, return_specific_with_id, verbose, plot_shape, save_results, save_json, save_figure, plot_verbose)\u001b[0m\n\u001b[1;32m    127\u001b[0m loss\u001b[38;5;241m.\u001b[39mbackward()\n\u001b[1;32m    128\u001b[0m optimizer\u001b[38;5;241m.\u001b[39mstep()\n\u001b[0;32m--> 130\u001b[0m \u001b[38;5;28;01mif\u001b[39;00m \u001b[43mtorch\u001b[49m\u001b[38;5;241;43m.\u001b[39;49m\u001b[43misinf\u001b[49m\u001b[43m(\u001b[49m\u001b[43mloss\u001b[49m\u001b[43m)\u001b[49m\u001b[38;5;241m.\u001b[39mitem() \u001b[38;5;129;01mor\u001b[39;00m torch\u001b[38;5;241m.\u001b[39misnan(loss)\u001b[38;5;241m.\u001b[39mitem():\n\u001b[1;32m    131\u001b[0m     \u001b[38;5;28;01mreturn\u001b[39;00m LPIPS_MAX\n\u001b[1;32m    133\u001b[0m \u001b[38;5;28;01mif\u001b[39;00m verbose:\n",
      "\u001b[0;31mKeyboardInterrupt\u001b[0m: "
     ]
    }
   ],
   "source": [
    "model_config = './model_config/fc2_cocktail_party_tiny_imagenet_instance.json'\n",
    "checkpoint = './checkpoints/010424_fc2_cocktail_party_tiny_imagenet_pretraining_wout_bias_wout_normalization.pth'\n",
    "data_type = 'tiny-imagenet'\n",
    "data_path = '../data'\n",
    "batch_size = 16\n",
    "log_files = os.listdir('./hyperparameter_optimization_log/')\n",
    "for log_file in log_files:\n",
    "    target_id = int(log_file.split('.')[0].split('_')[-1])\n",
    "    with open(os.path.join('./hyperparameter_optimization_log/', log_file), 'r') as fp:\n",
    "        lines = fp.readlines()\n",
    "        best_trial = lines[int(lines[-1][lines[-1].index('Best is trial '):].split(' ')[3]) + 1]\n",
    "        params = [float(x.split(' ')[-1]) for x in best_trial.split('{')[-1].split('}')[0].split(', ')]\n",
    "        t_param, total_variance_loss_param, mutual_independence_loss_param = params\n",
    "    \n",
    "    print('#####################################################')\n",
    "    print('experiment with target id {} started'.format(target_id))\n",
    "    result_dict = cocktail_party_attack(model_config, checkpoint, data_type, data_path, batch_size, t_param,\n",
    "                                    total_variance_loss_param,\n",
    "                                    mutual_independence_loss_param, height=64, width=64, return_specific_with_id=target_id,\n",
    "                                    plot_shape=(4, 4),\n",
    "                                    save_results='011024_fc2_tiny_imagenet_bs_16_target_{}'.format(target_id),\n",
    "                                    save_json=True,\n",
    "                                    save_figure=True, device_number=3)\n",
    "    print('#####################################################\\n')"
   ]
  }
 ],
 "metadata": {
  "kernelspec": {
   "display_name": "Python 3",
   "language": "python",
   "name": "python3"
  },
  "language_info": {
   "codemirror_mode": {
    "name": "ipython",
    "version": 3
   },
   "file_extension": ".py",
   "mimetype": "text/x-python",
   "name": "python",
   "nbconvert_exporter": "python",
   "pygments_lexer": "ipython3",
   "version": "3.9.18"
  }
 },
 "nbformat": 4,
 "nbformat_minor": 5
}
